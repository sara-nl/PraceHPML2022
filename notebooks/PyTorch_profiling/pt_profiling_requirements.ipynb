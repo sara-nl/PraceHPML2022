{
 "cells": [
  {
   "cell_type": "markdown",
   "id": "a00d4c0a",
   "metadata": {},
   "source": [
    "To run the PyTorch profiling tutorial, we currently have this module environment:\n",
    "\n",
    "module load 2021\n",
    "\n",
    "module load JupyterHub/1.4.1-GCCcore-10.3.0\n",
    "\n",
    "module load IRkernel/1.2-foss-2021a\n",
    "\n",
    "module load jupyter-server-proxy/3.2.1-GCCcore-10.3.0\n",
    "\n",
    "module load jupyter-resource-usage/0.6.2-GCCcore-10.3.0\n",
    "\n",
    "module load TensorFlow/2.6.0-foss-2021a-CUDA-11.3.1\n",
    "\n",
    "module load PyTorch/1.10.0-foss-2021a-CUDA-11.3.1\n",
    "\n",
    "module load torchvision/0.11.1-foss-2021a-CUDA-11.3.1\n",
    "\n",
    "module load SciPy-bundle/2021.05-foss-2021a\n",
    "\n",
    "module load matplotlib/3.4.2-foss-2021a\n",
    "\n",
    "On top of that, we need to install the following packages"
   ]
  },
  {
   "cell_type": "code",
   "execution_count": null,
   "id": "6b3bc2df",
   "metadata": {},
   "outputs": [],
   "source": [
    "pip install torch_tb_profiler --user\n",
    "pip install torchmetrics --user"
   ]
  }
 ],
 "metadata": {
  "kernelspec": {
   "display_name": "Python 3 (ipykernel)",
   "language": "python",
   "name": "python3"
  },
  "language_info": {
   "codemirror_mode": {
    "name": "ipython",
    "version": 3
   },
   "file_extension": ".py",
   "mimetype": "text/x-python",
   "name": "python",
   "nbconvert_exporter": "python",
   "pygments_lexer": "ipython3",
   "version": "3.9.5"
  }
 },
 "nbformat": 4,
 "nbformat_minor": 5
}
